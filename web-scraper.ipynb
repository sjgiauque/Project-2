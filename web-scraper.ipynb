{
 "cells": [
  {
   "cell_type": "code",
   "execution_count": 1,
   "metadata": {},
   "outputs": [],
   "source": [
    "from bs4 import BeautifulSoup as bs\n",
    "from splinter import Browser\n",
    "import os\n",
    "import pandas as pd\n",
    "import time\n",
    "import html.parser\n",
    "from urllib.parse import urlsplit"
   ]
  },
  {
   "cell_type": "code",
   "execution_count": 2,
   "metadata": {},
   "outputs": [],
   "source": [
    "executable_path = {\"executable_path\": \"chromedriver\"}\n",
    "browser = Browser(\"chrome\", **executable_path, headless = False)"
   ]
  },
  {
   "cell_type": "code",
   "execution_count": 3,
   "metadata": {},
   "outputs": [],
   "source": [
    "url = \"https://www.golfdigest.com/gallery/americas-100-greatest-golf-courses-ranking\"\n",
    "browser.visit(url)"
   ]
  },
  {
   "cell_type": "code",
   "execution_count": 4,
   "metadata": {},
   "outputs": [],
   "source": [
    "html = browser.html\n",
    "soup = bs(html, \"html.parser\")"
   ]
  },
  {
   "cell_type": "code",
   "execution_count": 17,
   "metadata": {},
   "outputs": [],
   "source": [
    "#testing code to make sure I'm scraping the right data points\n",
    "#rank = soup.find(\"span\", class_=\"listicle-counter index\").text\n",
    "#name = soup.find(\"h2\", class_=\"listicle-title\").text\n",
    "#caption = soup.find(\"div\", class_= \"listicle-caption\").text\n",
    "#print(f\"rank: {rank}\")\n",
    "#print(f\"name: {name}\")\n",
    "#print(f\"caption: {caption}\")"
   ]
  },
  {
   "cell_type": "code",
   "execution_count": 31,
   "metadata": {},
   "outputs": [
    {
     "name": "stdout",
     "output_type": "stream",
     "text": [
      "<div class=\"listicle-item\"><div class=\"rendition-social-outer\"><div class=\"rendition-social-inner\"><span class=\"listicle-counter index\">1</span><h2 class=\"listicle-title\"><strong>PINE VALLEY G.C.</strong></h2><picture class=\"component-responsive-image\"><source media=\"(min-width: 1025px)\" srcset=\"https://media.golfdigest.com/photos/585054c3f9388fc41a893cac/master/w_868,c_limit/2017-01-Pine-Valley-GC-hole-15.jpg\"/><source media=\"(min-width: 1024px)\" srcset=\"https://media.golfdigest.com/photos/585054c3f9388fc41a893cac/master/w_564,c_limit/2017-01-Pine-Valley-GC-hole-15.jpg\"/><source media=\"(min-width: 768px)\" srcset=\"https://media.golfdigest.com/photos/585054c3f9388fc41a893cac/master/w_870,c_limit/2017-01-Pine-Valley-GC-hole-15.jpg\"/><source srcset=\"https://media.golfdigest.com/photos/585054c3f9388fc41a893cac/master/w_640,c_limit/2017-01-Pine-Valley-GC-hole-15.jpg\"/><img alt=\"PINE VALLEY G.C.\" src=\"https://media.golfdigest.com/photos/585054c3f9388fc41a893cac/master/w_640,c_limit/2017-01-Pine-Valley-GC-hole-15.jpg\" title=\"\"/></picture><div class=\"component-social-share listicle-share closed\" data-component=\"SocialShare\" role=\"list\"><div class=\"share-item facebook\" data-component=\"facebook\" data-href=\"https://www.facebook.com/sharer/sharer.php?u=https%3A%2F%2Fwww.golfdigest.com%2Fgallery%2Famericas-100-greatest-golf-courses-ranking&amp;t=Top%20100%20US%20Golf%20Courses%202019-20%20-%20Golf%20Digest\" role=\"listitem\"><a aria-label=\"Facebook share\" href=\"https://www.facebook.com/sharer/sharer.php?u=https%3A%2F%2Fwww.golfdigest.com%2Fgallery%2Famericas-100-greatest-golf-courses-ranking&amp;t=Top%20100%20US%20Golf%20Courses%202019-20%20-%20Golf%20Digest\" rel=\"noopener\" target=\"_blank\"><span class=\"icon\"></span><span class=\"label\">Facebook</span></a></div><div class=\"share-item twitter\" data-component=\"twitter\" data-href=\"https://twitter.com/share?text=Top%20100%20US%20Golf%20Courses%202019-20%20-%20Golf%20Digest&amp;url=https%3A%2F%2Fwww.golfdigest.com%2Fgallery%2Famericas-100-greatest-golf-courses-ranking\" role=\"listitem\"><a aria-label=\"Tweet\" href=\"https://twitter.com/share?text=Top%20100%20US%20Golf%20Courses%202019-20%20-%20Golf%20Digest&amp;url=https%3A%2F%2Fwww.golfdigest.com%2Fgallery%2Famericas-100-greatest-golf-courses-ranking\" rel=\"noopener\" target=\"_blank\"><span class=\"icon\"></span><span class=\"label\">Twitter</span></a></div><div class=\"share-item pinterest\" data-component=\"pinterest\" data-href=\"https://www.pinterest.com/pin/create/button/?url=https%3A%2F%2Fwww.golfdigest.com%2Fgallery%2Famericas-100-greatest-golf-courses-ranking&amp;media=https%3A%2F%2Fmedia.golfdigest.com%2Fphotos%2F585054c3f9388fc41a893cac%2Fmaster%2Fpass%2F2017-01-Pine-Valley-GC-hole-15.jpg&amp;description=Top%20100%20US%20Golf%20Courses%202019-20%20-%20Golf%20Digest\" role=\"listitem\"><a aria-label=\"Pin\" data-pin-do=\"none\" href=\"https://www.pinterest.com/pin/create/button/?url=https%3A%2F%2Fwww.golfdigest.com%2Fgallery%2Famericas-100-greatest-golf-courses-ranking&amp;media=https%3A%2F%2Fmedia.golfdigest.com%2Fphotos%2F585054c3f9388fc41a893cac%2Fmaster%2Fpass%2F2017-01-Pine-Valley-GC-hole-15.jpg&amp;description=Top%20100%20US%20Golf%20Courses%202019-20%20-%20Golf%20Digest\" rel=\"noopener\" target=\"_blank\"><span class=\"icon\"></span><span class=\"label\">Pinterest</span></a></div><div class=\"share-item email\" data-component=\"email\" data-href=\"mailto:?subject=Top%20100%20US%20Golf%20Courses%202019-20%20-%20Golf%20Digest&amp;body=https%3A%2F%2Fwww.golfdigest.com%2Fgallery%2Famericas-100-greatest-golf-courses-ranking\" role=\"listitem\"><a aria-label=\"Email\" href=\"mailto:?subject=Top%20100%20US%20Golf%20Courses%202019-20%20-%20Golf%20Digest&amp;body=https%3A%2F%2Fwww.golfdigest.com%2Fgallery%2Famericas-100-greatest-golf-courses-ranking\" rel=\"noopener\"><span class=\"icon\"></span><span class=\"label\">Email</span></a></div></div></div></div><div class=\"item-description\"><div class=\"listicle-caption\">7,181 yards, Par 70 / Points: 72.0078 \n",
      "Pine Valley, N.J. / George Crump &amp; H.S. Colt (1918) / Tom Fazio (2017)    \n",
      "\n",
      "<p><a href=\"http://www.golfdigest.com/story/pine-valley-golf-club\"><strong>More about this course →</strong></a></p></div></div></div>\n"
     ]
    }
   ],
   "source": [
    "results = soup.find_all(\"div\", class_=\"listicle-item\")\n",
    "print(results[0])"
   ]
  },
  {
   "cell_type": "code",
   "execution_count": 32,
   "metadata": {},
   "outputs": [
    {
     "name": "stdout",
     "output_type": "stream",
     "text": [
      "['PINE VALLEY G.C.', 'AUGUSTA NATIONAL G.C.', 'CYPRESS POINT CLUB', 'SHINNECOCK HILLS G.C.', 'OAKMONT C.C.', 'MERION G.C. (East)', 'PEBBLE BEACH G. LINKS', 'NATIONAL G. LINKS OF AMERICA', 'SAND HILLS G.C.', 'FISHERS ISLAND CLUB', 'WINGED FOOT G.C. (West)', 'SEMINOLE G.C.', 'CRYSTAL DOWNS C.C.', 'CHICAGO G.C.', \"FRIAR'S HEAD G.C.\", 'MUIRFIELD VILLAGE G.C.', 'PACIFIC DUNES', 'THE COUNTRY CLUB (Clyde/Squirrel)', 'LOS ANGELES C.C. (North)', 'OAKLAND HILLS C.C. (South)', 'WHISTLING STRAITS (Straits)', 'OAK HILL C.C. (East)', 'RIVIERA C.C.', 'THE OCEAN COURSE', 'WADE HAMPTON G.C.', 'SHADOW CREEK', 'PRAIRIE DUNES C.C.', 'THE HONORS COURSE', 'PINEHURST RESORT (No. 2)', 'PEACHTREE G.C.', 'THE ALOTIAN CLUB', 'GOZZER RANCH G. & LAKE C.', 'THE OLYMPIC CLUB (Lake)', 'SOUTHERN HILLS C.C.', 'SAN FRANCISCO G.C.', 'BANDON DUNES', 'BETHPAGE STATE PARK (Black)', 'THE GOLF CLUB', 'SEBONACK G.C.', 'PIKEWOOD NATIONAL G.C.', 'BALTUSROL G.C. (Lower)', 'ERIN HILLS G. CSE.', 'VICTORIA NATIONAL G.C.', 'CAMARGO CLUB', 'SPYGLASS HILL G. CSE.', 'BALLYNEAL G.C.', 'BUTLER NATIONAL G.C.', 'CASTLE PINES G.C.', 'TPC SAWGRASS (Players Stadium)', 'OLD MACDONALD', 'GARDEN CITY G.C.', 'WINGED FOOT G.C. (East)', 'MEDINAH C.C. (No. 3)', 'WHISPERING PINES G.C.', 'SHOREACRES', 'MONTEREY PENINSULA C.C. (Shore)', 'SCIOTO C.C.', 'INTERLACHEN C.C.', 'OLD SANDWICH G.C.', 'OAK TREE NATIONAL', 'BALTUSROL G.C. (Upper)', 'CANYATA G.C.', 'SOMERSET HILLS C.C.', 'PETE DYE G.C.', 'DALLAS NATIONAL G.C.', 'KINLOCH G.C. ', 'MAIDSTONE CLUB', 'ARCADIA BLUFFS G.C.', 'BANDON TRAILS', 'THE ESTANCIA CLUB', 'QUAKER RIDGE G.C.', 'CHERRY HILLS C.C.', 'ESSEX COUNTY CLUB', 'MILWAUKEE C.C.', 'OLYMPIA FIELDS C.C. (North)', 'MYOPIA HUNT CLUB', 'THE QUARRY AT LA QUINTA', 'KITTANSETT CLUB', 'MONTEREY PENINSULA C.C. (Dunes)', 'CONGRESSIONAL C.C. (Blue)', 'HUDSON NATIONAL G.C.', 'PLAINFIELD C.C.', 'CALUSA PINES G.C.', 'VALHALLA G.C.', 'ARONIMINK G.C.', 'THE VALLEY CLUB OF MONTECITO', 'BOSTON G.C.', 'INVERNESS CLUB', 'SLEEPY HOLLOW C.C', 'DIAMOND CREEK G.C.', 'THE G.C. AT BLACK ROCK', 'DOUBLE EAGLE CLUB', 'SPRING HILL G.C.', 'RICH HARVEST LINKS', 'YEAMANS HALL CLUB', 'THE PRESERVE G.C.', 'BLACKWOLF RUN (River)', 'OLD TOWN CLUB', 'CROOKED STICK G.C.', 'MAYACAMA G.C.']\n"
     ]
    }
   ],
   "source": [
    "#create empty lists to store scraped data\n",
    "ranks = []\n",
    "names = []\n",
    "captions = []\n",
    "\n",
    "for result in results:\n",
    "    # Identify and return rank of course\n",
    "    rank = result.find(\"span\", class_=\"listicle-counter index\").text\n",
    "   # Identify and return name of course\n",
    "    name = result.find(\"h2\", class_=\"listicle-title\").text\n",
    "    # Identify and return additional info about course\n",
    "    caption = result.find(\"div\", class_= \"listicle-caption\").text\n",
    "\n",
    "    # add results to empty lists\n",
    "    ranks.append(rank)\n",
    "    names.append(name)\n",
    "    captions.append(caption)\n",
    "print(names)"
   ]
  },
  {
   "cell_type": "code",
   "execution_count": null,
   "metadata": {},
   "outputs": [],
   "source": []
  }
 ],
 "metadata": {
  "kernelspec": {
   "display_name": "Python 3",
   "language": "python",
   "name": "python3"
  },
  "language_info": {
   "codemirror_mode": {
    "name": "ipython",
    "version": 3
   },
   "file_extension": ".py",
   "mimetype": "text/x-python",
   "name": "python",
   "nbconvert_exporter": "python",
   "pygments_lexer": "ipython3",
   "version": "3.7.4"
  }
 },
 "nbformat": 4,
 "nbformat_minor": 2
}
