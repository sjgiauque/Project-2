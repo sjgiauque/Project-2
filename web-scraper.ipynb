{
 "cells": [
  {
   "cell_type": "code",
   "execution_count": 1,
   "metadata": {},
   "outputs": [],
   "source": [
    "from bs4 import BeautifulSoup as bs\n",
    "from splinter import Browser\n",
    "import os\n",
    "import pandas as pd\n",
    "import time\n",
    "import html.parser\n",
    "from urllib.parse import urlsplit"
   ]
  },
  {
   "cell_type": "code",
   "execution_count": 2,
   "metadata": {},
   "outputs": [],
   "source": [
    "executable_path = {\"executable_path\": \"chromedriver\"}\n",
    "browser = Browser(\"chrome\", **executable_path, headless = False)"
   ]
  },
  {
   "cell_type": "code",
   "execution_count": 3,
   "metadata": {},
   "outputs": [],
   "source": [
    "url = \"https://www.golfdigest.com/gallery/americas-100-greatest-golf-courses-ranking\"\n",
    "browser.visit(url)"
   ]
  },
  {
   "cell_type": "code",
   "execution_count": 4,
   "metadata": {},
   "outputs": [],
   "source": [
    "html = browser.html\n",
    "soup = bs(html, \"html.parser\")"
   ]
  },
  {
   "cell_type": "code",
   "execution_count": 17,
   "metadata": {},
   "outputs": [],
   "source": [
    "#testing code to make sure I'm scraping the right data points\n",
    "#rank = soup.find(\"span\", class_=\"listicle-counter index\").text\n",
    "#name = soup.find(\"h2\", class_=\"listicle-title\").text\n",
    "#caption = soup.find(\"div\", class_= \"listicle-caption\").text\n",
    "#print(f\"rank: {rank}\")\n",
    "#print(f\"name: {name}\")\n",
    "#print(f\"caption: {caption}\")"
   ]
  },
  {
   "cell_type": "code",
   "execution_count": 38,
   "metadata": {},
   "outputs": [],
   "source": [
    "#loop through each div we are looking to scrape data from\n",
    "results = soup.find_all(\"div\", class_=\"listicle-item\")"
   ]
  },
  {
   "cell_type": "code",
   "execution_count": 37,
   "metadata": {},
   "outputs": [],
   "source": [
    "#create empty lists to store scraped data\n",
    "ranks = []\n",
    "names = []\n",
    "captions = []\n",
    "\n",
    "for result in results:\n",
    "    # Identify and return rank of course\n",
    "    rank = result.find(\"span\", class_=\"listicle-counter index\").text\n",
    "   # Identify and return name of course\n",
    "    name = result.find(\"h2\", class_=\"listicle-title\").text\n",
    "    # Identify and return additional info about course\n",
    "    caption = result.find(\"div\", class_= \"listicle-caption\").text\n",
    "\n",
    "    # add results to empty lists\n",
    "    ranks.append(rank)\n",
    "    names.append(name)\n",
    "    captions.append(caption)\n"
   ]
  },
  {
   "cell_type": "code",
   "execution_count": 39,
   "metadata": {},
   "outputs": [
    {
     "data": {
      "text/html": [
       "<div>\n",
       "<style scoped>\n",
       "    .dataframe tbody tr th:only-of-type {\n",
       "        vertical-align: middle;\n",
       "    }\n",
       "\n",
       "    .dataframe tbody tr th {\n",
       "        vertical-align: top;\n",
       "    }\n",
       "\n",
       "    .dataframe thead th {\n",
       "        text-align: right;\n",
       "    }\n",
       "</style>\n",
       "<table border=\"1\" class=\"dataframe\">\n",
       "  <thead>\n",
       "    <tr style=\"text-align: right;\">\n",
       "      <th></th>\n",
       "      <th>Rank</th>\n",
       "      <th>Course Name</th>\n",
       "      <th>Caption</th>\n",
       "    </tr>\n",
       "  </thead>\n",
       "  <tbody>\n",
       "    <tr>\n",
       "      <td>0</td>\n",
       "      <td>1</td>\n",
       "      <td>PINE VALLEY G.C.</td>\n",
       "      <td>7,181 yards, Par 70 / Points: 72.0078 \\nPine V...</td>\n",
       "    </tr>\n",
       "    <tr>\n",
       "      <td>1</td>\n",
       "      <td>2</td>\n",
       "      <td>AUGUSTA NATIONAL G.C.</td>\n",
       "      <td>7,435 yards, Par 72 / Points: 71.5810Augusta, ...</td>\n",
       "    </tr>\n",
       "    <tr>\n",
       "      <td>2</td>\n",
       "      <td>3</td>\n",
       "      <td>CYPRESS POINT CLUB</td>\n",
       "      <td>6,524 yards, Par 72 / Points: 69.6830 Alister ...</td>\n",
       "    </tr>\n",
       "    <tr>\n",
       "      <td>3</td>\n",
       "      <td>4</td>\n",
       "      <td>SHINNECOCK HILLS G.C.</td>\n",
       "      <td>7,445 yards, Par 70 / Points: 69.2526William F...</td>\n",
       "    </tr>\n",
       "    <tr>\n",
       "      <td>4</td>\n",
       "      <td>5</td>\n",
       "      <td>OAKMONT C.C.</td>\n",
       "      <td>7,255 Yards, Par 71 / Points: 68.9218Oakmont, ...</td>\n",
       "    </tr>\n",
       "    <tr>\n",
       "      <td>...</td>\n",
       "      <td>...</td>\n",
       "      <td>...</td>\n",
       "      <td>...</td>\n",
       "    </tr>\n",
       "    <tr>\n",
       "      <td>95</td>\n",
       "      <td>96</td>\n",
       "      <td>THE PRESERVE G.C.</td>\n",
       "      <td>7,138 Yards, Par 72\\t/ Points: 61.0619Carmel, ...</td>\n",
       "    </tr>\n",
       "    <tr>\n",
       "      <td>96</td>\n",
       "      <td>97</td>\n",
       "      <td>BLACKWOLF RUN (River)</td>\n",
       "      <td>7,404 Yards, Par\\t72\\t/ Points: 61.0451\\nKohle...</td>\n",
       "    </tr>\n",
       "    <tr>\n",
       "      <td>97</td>\n",
       "      <td>98</td>\n",
       "      <td>OLD TOWN CLUB</td>\n",
       "      <td>7,038 Yards, Par 70 / Points: 61.0033\\nWinston...</td>\n",
       "    </tr>\n",
       "    <tr>\n",
       "      <td>98</td>\n",
       "      <td>99</td>\n",
       "      <td>CROOKED STICK G.C.</td>\n",
       "      <td>7,516 Yards, Par \\t72\\t/ Points: 60.9908 Carme...</td>\n",
       "    </tr>\n",
       "    <tr>\n",
       "      <td>99</td>\n",
       "      <td>100</td>\n",
       "      <td>MAYACAMA G.C.</td>\n",
       "      <td>6,761 Yards, Par 71 / Points: 60.9746 \\nSanta ...</td>\n",
       "    </tr>\n",
       "  </tbody>\n",
       "</table>\n",
       "<p>100 rows × 3 columns</p>\n",
       "</div>"
      ],
      "text/plain": [
       "   Rank            Course Name  \\\n",
       "0     1       PINE VALLEY G.C.   \n",
       "1     2  AUGUSTA NATIONAL G.C.   \n",
       "2     3     CYPRESS POINT CLUB   \n",
       "3     4  SHINNECOCK HILLS G.C.   \n",
       "4     5           OAKMONT C.C.   \n",
       "..  ...                    ...   \n",
       "95   96      THE PRESERVE G.C.   \n",
       "96   97  BLACKWOLF RUN (River)   \n",
       "97   98          OLD TOWN CLUB   \n",
       "98   99     CROOKED STICK G.C.   \n",
       "99  100          MAYACAMA G.C.   \n",
       "\n",
       "                                              Caption  \n",
       "0   7,181 yards, Par 70 / Points: 72.0078 \\nPine V...  \n",
       "1   7,435 yards, Par 72 / Points: 71.5810Augusta, ...  \n",
       "2   6,524 yards, Par 72 / Points: 69.6830 Alister ...  \n",
       "3   7,445 yards, Par 70 / Points: 69.2526William F...  \n",
       "4   7,255 Yards, Par 71 / Points: 68.9218Oakmont, ...  \n",
       "..                                                ...  \n",
       "95  7,138 Yards, Par 72\\t/ Points: 61.0619Carmel, ...  \n",
       "96  7,404 Yards, Par\\t72\\t/ Points: 61.0451\\nKohle...  \n",
       "97  7,038 Yards, Par 70 / Points: 61.0033\\nWinston...  \n",
       "98  7,516 Yards, Par \\t72\\t/ Points: 60.9908 Carme...  \n",
       "99  6,761 Yards, Par 71 / Points: 60.9746 \\nSanta ...  \n",
       "\n",
       "[100 rows x 3 columns]"
      ]
     },
     "execution_count": 39,
     "metadata": {},
     "output_type": "execute_result"
    }
   ],
   "source": [
    "golf_df = pd.DataFrame(list(zip(ranks, names, captions)), columns =[\"Rank\", \"Course Name\", \"Caption\"])\n",
    "golf_df"
   ]
  },
  {
   "cell_type": "code",
   "execution_count": null,
   "metadata": {},
   "outputs": [],
   "source": []
  }
 ],
 "metadata": {
  "kernelspec": {
   "display_name": "Python 3",
   "language": "python",
   "name": "python3"
  },
  "language_info": {
   "codemirror_mode": {
    "name": "ipython",
    "version": 3
   },
   "file_extension": ".py",
   "mimetype": "text/x-python",
   "name": "python",
   "nbconvert_exporter": "python",
   "pygments_lexer": "ipython3",
   "version": "3.7.4"
  }
 },
 "nbformat": 4,
 "nbformat_minor": 2
}
